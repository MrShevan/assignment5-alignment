{
 "cells": [
  {
   "cell_type": "code",
   "execution_count": 1,
   "metadata": {},
   "outputs": [
    {
     "name": "stderr",
     "output_type": "stream",
     "text": [
      "/tmp/ipykernel_7565/3363062379.py:2: TqdmExperimentalWarning: Using `tqdm.autonotebook.tqdm` in notebook mode. Use `tqdm.tqdm` instead to force console mode (e.g. in jupyter console)\n",
      "  from tqdm.autonotebook import tqdm\n"
     ]
    }
   ],
   "source": [
    "import json\n",
    "from tqdm.autonotebook import tqdm\n",
    "\n",
    "import torch\n",
    "from torch.optim import SGD\n",
    "from torch.utils.data import Dataset, DataLoader\n",
    "\n",
    "from transformers import AutoModelForCausalLM, AutoTokenizer, get_scheduler\n",
    "\n",
    "from cs336_alignment.sft import (\n",
    "    tokenize_prompt_and_output,\n",
    "    get_response_log_probs,\n",
    "    sft_microbatch_train_step,\n",
    ")"
   ]
  },
  {
   "cell_type": "code",
   "execution_count": 2,
   "metadata": {},
   "outputs": [],
   "source": [
    "class QuestionAnswerDataset(Dataset):\n",
    "    def __init__(self, jsonl_path):\n",
    "        self.samples = self._read_jsonl(jsonl_path)\n",
    "    \n",
    "    def _read_jsonl(self, file_path):\n",
    "        data = []\n",
    "        with open(file_path, 'r', encoding='utf-8') as f:\n",
    "            for line in f:\n",
    "                if line.strip():  # skip empty lines\n",
    "                    data.append(json.loads(line))\n",
    "        return data\n",
    "\n",
    "    def __len__(self):\n",
    "        return len(self.samples)\n",
    "\n",
    "    def __getitem__(self, idx):\n",
    "        sample = self.samples[idx]\n",
    "        question = sample[\"question\"]\n",
    "        answer = sample[\"answer\"]\n",
    "        return question, answer\n"
   ]
  },
  {
   "cell_type": "code",
   "execution_count": 3,
   "metadata": {},
   "outputs": [],
   "source": [
    "train_dataset = QuestionAnswerDataset(jsonl_path=\"/assignment5-alignment/data/gsm8k/train.jsonl\")"
   ]
  },
  {
   "cell_type": "code",
   "execution_count": 4,
   "metadata": {},
   "outputs": [
    {
     "data": {
      "text/plain": [
       "7473"
      ]
     },
     "execution_count": 4,
     "metadata": {},
     "output_type": "execute_result"
    }
   ],
   "source": [
    "len(train_dataset)"
   ]
  },
  {
   "cell_type": "code",
   "execution_count": 5,
   "metadata": {},
   "outputs": [
    {
     "data": {
      "text/plain": [
       "('Five friends eat at a fast-food chain and order the following: 5 pieces of hamburger that cost $3 each; 4 sets of French fries that cost $1.20; 5 cups of soda that cost $0.5 each; and 1 platter of spaghetti that cost $2.7. How much will each of them pay if they will split the bill equally?',\n",
       " 'The cost of 5 pieces of hamburger is $3 x 5 = $<<3*5=15>>15.\\nThe cost of 4 sets of French fries is $1.20 x 4 = $<<1.20*4=4.80>>4.80.\\nThe cost of 5 cups of soda is $0.5 x 5 = $<<0.5*5=2.50>>2.50.\\nSo their total bill is $15 + $4.80 + $2.50 +$2.7 = $<<15+4.8+2.5+2.7=25>>25.\\nHence, each of the five friends will contribute $25/5 = $<<25/5=5>>5.\\n#### 5')"
      ]
     },
     "execution_count": 5,
     "metadata": {},
     "output_type": "execute_result"
    }
   ],
   "source": [
    "train_dataset[37]"
   ]
  },
  {
   "cell_type": "code",
   "execution_count": 6,
   "metadata": {},
   "outputs": [],
   "source": [
    "batch_size = 8\n",
    "train_dataloader = DataLoader(\n",
    "    train_dataset, batch_size=batch_size, shuffle=True\n",
    ")"
   ]
  },
  {
   "cell_type": "code",
   "execution_count": 7,
   "metadata": {},
   "outputs": [
    {
     "name": "stderr",
     "output_type": "stream",
     "text": [
      "Sliding Window Attention is enabled but not implemented for `sdpa`; unexpected results may be encountered.\n"
     ]
    }
   ],
   "source": [
    "model = AutoModelForCausalLM.from_pretrained(\"/assignment5-alignment/models/local-qwen-2_5-math-1_5B/\")\n",
    "tokenizer = AutoTokenizer.from_pretrained(\"/assignment5-alignment/models/local-qwen-2_5-math-1_5B/\")"
   ]
  },
  {
   "cell_type": "code",
   "execution_count": 8,
   "metadata": {},
   "outputs": [],
   "source": [
    "model = model.to(\"cuda\")"
   ]
  },
  {
   "cell_type": "code",
   "execution_count": 9,
   "metadata": {},
   "outputs": [
    {
     "data": {
      "application/vnd.jupyter.widget-view+json": {
       "model_id": "0adf41acd8714832b635f4bc7cbb999c",
       "version_major": 2,
       "version_minor": 0
      },
      "text/plain": [
       "  0%|          | 0/300 [00:00<?, ?it/s]"
      ]
     },
     "metadata": {},
     "output_type": "display_data"
    }
   ],
   "source": [
    "# sft train loop\n",
    "gradient_accumulation_steps = 4\n",
    "normalize_constant = 1\n",
    "num_epochs = 1\n",
    "max_epoch_steps = 300 # len(train_dataset) // batch_size\n",
    "\n",
    "optimizer = torch.optim.AdamW(model.parameters(), lr=1e-5)\n",
    "num_training_steps = max_epoch_steps * num_epochs // gradient_accumulation_steps\n",
    "scheduler = get_scheduler(\n",
    "    \"linear\",\n",
    "    optimizer=optimizer,\n",
    "    num_warmup_steps=num_training_steps // 10,\n",
    "    num_training_steps=num_training_steps\n",
    ")\n",
    "global_step = 0\n",
    "running_loss = 0.0\n",
    "logging_steps = gradient_accumulation_steps * 5\n",
    "\n",
    "for epoch in range(num_epochs):\n",
    "\n",
    "    for steps, batch in tqdm(enumerate(train_dataloader), total=max_epoch_steps):\n",
    "        if steps == max_epoch_steps:\n",
    "            break\n",
    "\n",
    "        inputs = tokenize_prompt_and_output(\n",
    "            *batch, tokenizer=tokenizer\n",
    "        )\n",
    "\n",
    "        input_ids = inputs[\"input_ids\"].to(\"cuda\")\n",
    "        labels = inputs[\"labels\"].to(\"cuda\")\n",
    "        response_mask = inputs[\"response_mask\"].to(\"cuda\")\n",
    "        \n",
    "        outputs = get_response_log_probs(\n",
    "            model=model, \n",
    "            input_ids=input_ids, \n",
    "            labels=labels, \n",
    "            return_token_entropy=True\n",
    "        )\n",
    "        loss, stats = sft_microbatch_train_step(\n",
    "            policy_log_probs=outputs[\"log_probs\"],\n",
    "            response_mask=response_mask,\n",
    "            gradient_accumulation_steps=gradient_accumulation_steps,\n",
    "            normalize_constant=normalize_constant\n",
    "        )\n",
    "\n",
    "        running_loss += loss.item()\n",
    "\n",
    "        if (steps + 1) % gradient_accumulation_steps == 0:\n",
    "            optimizer.step()\n",
    "            scheduler.step()\n",
    "            optimizer.zero_grad()\n",
    "\n",
    "        avg_loss = running_loss / logging_steps\n",
    "\n",
    "        global_step += 1\n",
    "        print(f\"Step {global_step}: Loss = {loss.item():.4f}, LR = {scheduler.get_last_lr()[0]:.2e}\")\n",
    "        if global_step % logging_steps == 0:\n",
    "            print(f\"Step {global_step}: Avg. Loss = {avg_loss:.4f}\")\n",
    "            running_loss = 0.0\n",
    "    \n",
    "    output_dir = f\"/assignment5-alignment/models/local-qwen-2_5-math-1_5B_sft_train_{epoch}\"\n",
    "    model.save_pretrained(output_dir)\n",
    "    tokenizer.save_pretrained(output_dir)\n",
    "\n"
   ]
  },
  {
   "cell_type": "code",
   "execution_count": null,
   "metadata": {},
   "outputs": [],
   "source": [
    "output_dir = \"/assignment5-alignment/models/local-qwen-2_5-math-1_5B_sft_train\"\n",
    "model.save_pretrained(output_dir)\n",
    "tokenizer.save_pretrained(output_dir)"
   ]
  },
  {
   "cell_type": "code",
   "execution_count": null,
   "metadata": {},
   "outputs": [],
   "source": [
    "print(torch.cuda.memory_summary())"
   ]
  },
  {
   "cell_type": "code",
   "execution_count": null,
   "metadata": {},
   "outputs": [],
   "source": []
  }
 ],
 "metadata": {
  "kernelspec": {
   "display_name": ".venv",
   "language": "python",
   "name": "python3"
  },
  "language_info": {
   "codemirror_mode": {
    "name": "ipython",
    "version": 3
   },
   "file_extension": ".py",
   "mimetype": "text/x-python",
   "name": "python",
   "nbconvert_exporter": "python",
   "pygments_lexer": "ipython3",
   "version": "3.12.11"
  }
 },
 "nbformat": 4,
 "nbformat_minor": 2
}
